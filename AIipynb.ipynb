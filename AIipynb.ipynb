{
  "nbformat": 4,
  "nbformat_minor": 0,
  "metadata": {
    "colab": {
      "name": "10.word2vec_small.ipynb",
      "provenance": []
    },
    "kernelspec": {
      "name": "python3",
      "display_name": "Python 3"
    }
  },
  "cells": [
    {
      "cell_type": "code",
      "metadata": {
        "id": "fx8JzChlgNZV",
        "colab_type": "code",
        "outputId": "a55c54fa-2366-4846-ce54-51ae9ff60dc9",
        "colab": {
          "base_uri": "https://localhost:8080/",
          "height": 275
        }
      },
      "source": [
        "#!wget https://raw.githubusercontent.com/joshhu/must_examples/master/my_seg_small.txt\n",
        "#透過網址抓取語調庫\n",
        "import sys\n",
        "from gensim.models import word2vec\n",
        "from gensim import models\n",
        "\n",
        "sentences = word2vec.LineSentence(\"my_seg_small.txt\")\n",
        "#抓取檔案中的語調庫\n",
        "model = word2vec.Word2Vec(sentences, size=5, min_count=1, negative=10)\n",
        "\n",
        "model.save('word2vec.model')\n",
        "model.wv.save_word2vec_format('word2vec.model', binary = False)\n",
        "print('done')\n",
        "\n",
        "\n",
        "input_str = \"北京\"\n",
        "#查詢\"北京\"在語調庫的關聯\n",
        "res = model.wv.most_similar(input_str)\n",
        "for item in res: \n",
        "      print(item[0] + ':' + str(item[1]))"
      ],
      "execution_count": 5,
      "outputs": [
        {
          "output_type": "stream",
          "text": [
            "done\n",
            "台北:0.7577103972434998\n",
            "上海:0.6600536108016968\n",
            "帝都:0.37530916929244995\n",
            "玩:0.23099751770496368\n",
            "吃:-0.5079082250595093\n",
            "烤鴨:-0.6330573558807373\n",
            "吃下午茶:-0.8455150127410889\n",
            "下午茶:-0.8498597741127014\n",
            "飯:-0.8874165415763855\n"
          ],
          "name": "stdout"
        },
        {
          "output_type": "stream",
          "text": [
            "/usr/local/lib/python3.6/dist-packages/smart_open/smart_open_lib.py:253: UserWarning: This function is deprecated, use smart_open.open instead. See the migration notes for details: https://github.com/RaRe-Technologies/smart_open/blob/master/README.rst#migrating-to-the-new-open-function\n",
            "  'See the migration notes for details: %s' % _MIGRATION_NOTES_URL\n",
            "/usr/local/lib/python3.6/dist-packages/gensim/matutils.py:737: FutureWarning: Conversion of the second argument of issubdtype from `int` to `np.signedinteger` is deprecated. In future, it will be treated as `np.int64 == np.dtype(int).type`.\n",
            "  if np.issubdtype(vec.dtype, np.int):\n"
          ],
          "name": "stderr"
        }
      ]
    },
    {
      "cell_type": "code",
      "metadata": {
        "id": "B05xg1wzgOYH",
        "colab_type": "code",
        "colab": {}
      },
      "source": [
        ""
      ],
      "execution_count": 0,
      "outputs": []
    }
  ]
}