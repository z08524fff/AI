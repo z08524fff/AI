{
  "nbformat": 4,
  "nbformat_minor": 0,
  "metadata": {
    "colab": {
      "name": "2.Keras_Tutorial_1.ipynb",
      "provenance": []
    },
    "kernelspec": {
      "name": "python3",
      "display_name": "Python 3"
    }
  },
  "cells": [
    {
      "cell_type": "code",
      "metadata": {
        "id": "8W-8zTYihY-d",
        "colab_type": "code",
        "colab": {
          "base_uri": "https://localhost:8080/",
          "height": 476
        },
        "outputId": "57702a2e-f304-4fd8-948d-37320b95f66b"
      },
      "source": [
        "import keras\n",
        "from keras.models import Sequential\n",
        "from keras.layers import Dense\n",
        "\n",
        "import numpy as np\n",
        "data = np.random.random((1000, 10)) #隨機產生1000筆資料，每筆資料1包含十個float數字\n",
        "labels = np.random.randint(2, size=(1000, 1)) #隨機產生1000筆資料，每筆資料上限為2(意思就是0 或 1)\n",
        "print(np.shape(data))\n",
        "print(data[0])\n",
        "print(np.shape(labels))\n",
        "print(labels[0])\n",
        "\n",
        "model = Sequential()\n",
        "model.add(Dense(32, activation='relu', input_dim=10))\n",
        "model.add(Dense(1, activation='sigmoid'))\n",
        "model.compile(optimizer='rmsprop', loss='binary_crossentropy', metrics=['accuracy'])\n",
        "\n",
        "model.fit(data, labels, epochs=10, batch_size=32)\n",
        "\n",
        "score=model.evaluate(data, labels)\n",
        "print(score[1])"
      ],
      "execution_count": 2,
      "outputs": [
        {
          "output_type": "stream",
          "text": [
            "(1000, 10)\n",
            "[0.41569786 0.60802538 0.3218166  0.03714838 0.74902259 0.24471185\n",
            " 0.65123642 0.85744517 0.15031503 0.5353526 ]\n",
            "(1000, 1)\n",
            "[1]\n",
            "Epoch 1/10\n",
            "1000/1000 [==============================] - 0s 109us/step - loss: 0.6950 - accuracy: 0.5190\n",
            "Epoch 2/10\n",
            "1000/1000 [==============================] - 0s 36us/step - loss: 0.6910 - accuracy: 0.5380\n",
            "Epoch 3/10\n",
            "1000/1000 [==============================] - 0s 39us/step - loss: 0.6902 - accuracy: 0.5280\n",
            "Epoch 4/10\n",
            "1000/1000 [==============================] - 0s 39us/step - loss: 0.6902 - accuracy: 0.5290\n",
            "Epoch 5/10\n",
            "1000/1000 [==============================] - 0s 37us/step - loss: 0.6898 - accuracy: 0.5510\n",
            "Epoch 6/10\n",
            "1000/1000 [==============================] - 0s 38us/step - loss: 0.6895 - accuracy: 0.5460\n",
            "Epoch 7/10\n",
            "1000/1000 [==============================] - 0s 41us/step - loss: 0.6889 - accuracy: 0.5470\n",
            "Epoch 8/10\n",
            "1000/1000 [==============================] - 0s 39us/step - loss: 0.6890 - accuracy: 0.5490\n",
            "Epoch 9/10\n",
            "1000/1000 [==============================] - 0s 45us/step - loss: 0.6885 - accuracy: 0.5420\n",
            "Epoch 10/10\n",
            "1000/1000 [==============================] - 0s 41us/step - loss: 0.6881 - accuracy: 0.5420\n",
            "1000/1000 [==============================] - 0s 35us/step\n",
            "0.5519999861717224\n"
          ],
          "name": "stdout"
        }
      ]
    }
  ]
}